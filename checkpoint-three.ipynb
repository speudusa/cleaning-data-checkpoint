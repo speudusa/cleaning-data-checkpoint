{
 "cells": [
  {
   "cell_type": "markdown",
   "metadata": {
    "azdata_cell_guid": "26037d32-2047-4157-81ef-595916bd66a0"
   },
   "source": [
    "# Checkpoint Three: Cleaning Data\n",
    "\n",
    "Now you are ready to clean your data. Before starting coding, provide the link to your dataset below.\n",
    "\n",
    "My dataset:\n",
    "\n",
    "Import the necessary libraries and create your dataframe(s)."
   ]
  },
  {
   "cell_type": "code",
   "execution_count": 67,
   "metadata": {
    "azdata_cell_guid": "e8adef8e-d0f2-4640-a179-5997f11e82ca"
   },
   "outputs": [],
   "source": [
    "import pandas as pd\n",
    "\n",
    "items = pd.read_csv(\"roll_20_items.csv\")\n",
    "more_monsters = pd.read_csv(\"aidedd_blocks2.csv\")"
   ]
  },
  {
   "cell_type": "markdown",
   "metadata": {
    "azdata_cell_guid": "e172475a-c4ee-414a-8367-9965355dbba6"
   },
   "source": [
    "## Missing Data\n",
    "\n",
    "Test your dataset for missing data and handle it as needed. Make notes in the form of code comments as to your thought process."
   ]
  },
  {
   "cell_type": "markdown",
   "metadata": {},
   "source": [
    "### ---------------------- Notes ----------------------\n",
    "##### Items Table\n",
    "\n",
    "Currently missing data in 14 columns, 3 of which are numeric.  Want to replace the missing values in my numeric columns (as and weight)\n"
   ]
  },
  {
   "cell_type": "code",
   "execution_count": 110,
   "metadata": {},
   "outputs": [],
   "source": [
    "# items.info()"
   ]
  },
  {
   "cell_type": "code",
   "execution_count": 112,
   "metadata": {
    "azdata_cell_guid": "e1dc66ef-e471-4c27-92e7-ee878c106eba"
   },
   "outputs": [
    {
     "data": {
      "text/plain": [
       "item                  0\n",
       "type                  0\n",
       "notes               433\n",
       "item_rarity         389\n",
       "weight              161\n",
       "attunement            0\n",
       "details              69\n",
       "modifiers           585\n",
       "ac                  577\n",
       "save                766\n",
       "stealth             659\n",
       "damage              567\n",
       "damage_type         570\n",
       "duration            760\n",
       "secondary damage    740\n",
       "range               683\n",
       "properties          592\n",
       "ac_clean              0\n",
       "weight_clean          0\n",
       "rarity_clean          0\n",
       "stealth_clean         0\n",
       "notes_clean           0\n",
       "details_clean         0\n",
       "dtype: int64"
      ]
     },
     "execution_count": 112,
     "metadata": {},
     "output_type": "execute_result"
    }
   ],
   "source": [
    "items.isna().sum()"
   ]
  },
  {
   "cell_type": "code",
   "execution_count": 109,
   "metadata": {},
   "outputs": [],
   "source": [
    "# items.head(5)"
   ]
  },
  {
   "cell_type": "code",
   "execution_count": 102,
   "metadata": {},
   "outputs": [
    {
     "data": {
      "text/plain": [
       "0"
      ]
     },
     "execution_count": 102,
     "metadata": {},
     "output_type": "execute_result"
    }
   ],
   "source": [
    "items.groupby(\"notes\").nunique()\n",
    "items[\"notes\"].isna().sum()  #433\n",
    "items[\"notes_clean\"] = items[\"notes\"].fillna(\"none\")\n",
    "items[\"notes_clean\"].head()\n",
    "items[\"notes_clean\"].isna().sum() "
   ]
  },
  {
   "cell_type": "code",
   "execution_count": 101,
   "metadata": {},
   "outputs": [
    {
     "data": {
      "text/plain": [
       "0"
      ]
     },
     "execution_count": 101,
     "metadata": {},
     "output_type": "execute_result"
    }
   ],
   "source": [
    "items.groupby(\"item_rarity\").count() #9 groups\n",
    "items[\"item_rarity\"].isna().sum()  #389\n",
    "items[\"rarity_clean\"] = items[\"item_rarity\"].fillna(\"common\")\n",
    "items[\"rarity_clean\"].head()\n",
    "items[\"rarity_clean\"].isna().sum()  #0"
   ]
  },
  {
   "cell_type": "code",
   "execution_count": 115,
   "metadata": {},
   "outputs": [
    {
     "data": {
      "text/plain": [
       "0"
      ]
     },
     "execution_count": 115,
     "metadata": {},
     "output_type": "execute_result"
    }
   ],
   "source": [
    "items.groupby(\"weight\").count()  #32\n",
    "items[\"weight\"].isna().sum()  #161\n",
    "items[\"weight_clean\"] = items[\"weight\"].fillna(0)\n",
    "items[\"weight_clean\"].head()\n",
    "items[\"weight_clean\"].isna().sum()  #0"
   ]
  },
  {
   "cell_type": "code",
   "execution_count": 106,
   "metadata": {},
   "outputs": [
    {
     "data": {
      "text/plain": [
       "0"
      ]
     },
     "execution_count": 106,
     "metadata": {},
     "output_type": "execute_result"
    }
   ],
   "source": [
    "items.groupby(\"details\").nunique()\n",
    "items[\"details\"].isna().sum()  #389\n",
    "items[\"details_clean\"] = items[\"details\"].fillna(\"none\")\n",
    "items[\"details_clean\"].head()\n",
    "items[\"details_clean\"].isna().sum()  #0"
   ]
  },
  {
   "cell_type": "code",
   "execution_count": null,
   "metadata": {},
   "outputs": [],
   "source": [
    "# MODIFIERS - 585"
   ]
  },
  {
   "cell_type": "code",
   "execution_count": 108,
   "metadata": {},
   "outputs": [
    {
     "data": {
      "text/plain": [
       "0"
      ]
     },
     "execution_count": 108,
     "metadata": {},
     "output_type": "execute_result"
    }
   ],
   "source": [
    "items.groupby(\"ac\").count()\n",
    "items[\"ac\"].isna().sum() #577\n",
    "items[\"ac_clean\"] = items[\"ac\"].fillna(0)\n",
    "items[\"ac_clean\"].head()\n",
    "items[\"ac_clean\"].isna().sum()  #0"
   ]
  },
  {
   "cell_type": "code",
   "execution_count": null,
   "metadata": {},
   "outputs": [],
   "source": [
    "# SAVE - 766"
   ]
  },
  {
   "cell_type": "code",
   "execution_count": 74,
   "metadata": {},
   "outputs": [
    {
     "data": {
      "text/plain": [
       "0    none\n",
       "1    none\n",
       "2    none\n",
       "3    none\n",
       "4    none\n",
       "Name: stealth_clean, dtype: object"
      ]
     },
     "execution_count": 74,
     "metadata": {},
     "output_type": "execute_result"
    }
   ],
   "source": [
    "items[\"stealth_clean\"] = items[\"stealth\"].fillna(\"none\")\n",
    "items[\"stealth_clean\"].head()"
   ]
  },
  {
   "cell_type": "code",
   "execution_count": null,
   "metadata": {},
   "outputs": [],
   "source": [
    "#DAMAGE - 567"
   ]
  },
  {
   "cell_type": "code",
   "execution_count": null,
   "metadata": {},
   "outputs": [],
   "source": [
    "#DAMAGE TYPE - 570"
   ]
  },
  {
   "cell_type": "code",
   "execution_count": null,
   "metadata": {},
   "outputs": [],
   "source": [
    "#DURATION - 760"
   ]
  },
  {
   "cell_type": "code",
   "execution_count": null,
   "metadata": {},
   "outputs": [],
   "source": [
    "#SECONDARY DAMAGE - 740"
   ]
  },
  {
   "cell_type": "code",
   "execution_count": null,
   "metadata": {},
   "outputs": [],
   "source": [
    "#RANGE - 683"
   ]
  },
  {
   "cell_type": "code",
   "execution_count": null,
   "metadata": {},
   "outputs": [],
   "source": [
    "#PROPERTIES - 592"
   ]
  },
  {
   "cell_type": "code",
   "execution_count": 76,
   "metadata": {},
   "outputs": [
    {
     "data": {
      "text/plain": [
       "Index(['item', 'type', 'notes', 'item_rarity', 'weight', 'attunement',\n",
       "       'details', 'modifiers', 'ac', 'save', 'stealth', 'damage',\n",
       "       'damage_type', 'duration', 'secondary damage', 'range', 'properties',\n",
       "       'ac_clean', 'weight_clean', 'rarity_clean', 'stealth_clean',\n",
       "       'notes_clean'],\n",
       "      dtype='object')"
      ]
     },
     "execution_count": 76,
     "metadata": {},
     "output_type": "execute_result"
    }
   ],
   "source": [
    "items.columns"
   ]
  },
  {
   "cell_type": "code",
   "execution_count": 77,
   "metadata": {},
   "outputs": [],
   "source": [
    "# dt = items.groupby(\"damage\").count()\n",
    "# dt.plot.pie(y=\"weight_clean\")"
   ]
  },
  {
   "cell_type": "code",
   "execution_count": 78,
   "metadata": {
    "scrolled": true
   },
   "outputs": [],
   "source": [
    "# dt = items.groupby(\"secondary damage\").count()\n",
    "# dt.plot.pie(y=\"weight_clean\")"
   ]
  },
  {
   "cell_type": "code",
   "execution_count": 113,
   "metadata": {},
   "outputs": [
    {
     "data": {
      "text/html": [
       "<div>\n",
       "<style scoped>\n",
       "    .dataframe tbody tr th:only-of-type {\n",
       "        vertical-align: middle;\n",
       "    }\n",
       "\n",
       "    .dataframe tbody tr th {\n",
       "        vertical-align: top;\n",
       "    }\n",
       "\n",
       "    .dataframe thead th {\n",
       "        text-align: right;\n",
       "    }\n",
       "</style>\n",
       "<table border=\"1\" class=\"dataframe\">\n",
       "  <thead>\n",
       "    <tr style=\"text-align: right;\">\n",
       "      <th></th>\n",
       "      <th>item</th>\n",
       "      <th>type</th>\n",
       "      <th>notes</th>\n",
       "      <th>item_rarity</th>\n",
       "      <th>weight</th>\n",
       "      <th>attunement</th>\n",
       "      <th>details</th>\n",
       "      <th>modifiers</th>\n",
       "      <th>ac</th>\n",
       "      <th>save</th>\n",
       "      <th>...</th>\n",
       "      <th>duration</th>\n",
       "      <th>secondary damage</th>\n",
       "      <th>range</th>\n",
       "      <th>properties</th>\n",
       "      <th>ac_clean</th>\n",
       "      <th>weight_clean</th>\n",
       "      <th>rarity_clean</th>\n",
       "      <th>stealth_clean</th>\n",
       "      <th>notes_clean</th>\n",
       "      <th>details_clean</th>\n",
       "    </tr>\n",
       "  </thead>\n",
       "  <tbody>\n",
       "    <tr>\n",
       "      <th>0</th>\n",
       "      <td>abacus</td>\n",
       "      <td>adventuring gear</td>\n",
       "      <td>NaN</td>\n",
       "      <td>NaN</td>\n",
       "      <td>2.0</td>\n",
       "      <td>0</td>\n",
       "      <td>NaN</td>\n",
       "      <td>NaN</td>\n",
       "      <td>NaN</td>\n",
       "      <td>NaN</td>\n",
       "      <td>...</td>\n",
       "      <td>NaN</td>\n",
       "      <td>NaN</td>\n",
       "      <td>NaN</td>\n",
       "      <td>NaN</td>\n",
       "      <td>0.0</td>\n",
       "      <td>2.0</td>\n",
       "      <td>common</td>\n",
       "      <td>none</td>\n",
       "      <td>none</td>\n",
       "      <td>none</td>\n",
       "    </tr>\n",
       "    <tr>\n",
       "      <th>1</th>\n",
       "      <td>acid</td>\n",
       "      <td>adventuring gear</td>\n",
       "      <td>consumable</td>\n",
       "      <td>NaN</td>\n",
       "      <td>1.0</td>\n",
       "      <td>0</td>\n",
       "      <td>As an action, you can splash the contents of t...</td>\n",
       "      <td>NaN</td>\n",
       "      <td>NaN</td>\n",
       "      <td>NaN</td>\n",
       "      <td>...</td>\n",
       "      <td>NaN</td>\n",
       "      <td>NaN</td>\n",
       "      <td>20/60</td>\n",
       "      <td>improvised weapons</td>\n",
       "      <td>0.0</td>\n",
       "      <td>1.0</td>\n",
       "      <td>common</td>\n",
       "      <td>none</td>\n",
       "      <td>consumable</td>\n",
       "      <td>As an action, you can splash the contents of t...</td>\n",
       "    </tr>\n",
       "    <tr>\n",
       "      <th>2</th>\n",
       "      <td>adamantine armor</td>\n",
       "      <td>armor</td>\n",
       "      <td>medium or heavy, but not hide</td>\n",
       "      <td>NaN</td>\n",
       "      <td>NaN</td>\n",
       "      <td>0</td>\n",
       "      <td>This suit of armor is reinforced with adamanti...</td>\n",
       "      <td>NaN</td>\n",
       "      <td>NaN</td>\n",
       "      <td>NaN</td>\n",
       "      <td>...</td>\n",
       "      <td>NaN</td>\n",
       "      <td>NaN</td>\n",
       "      <td>NaN</td>\n",
       "      <td>NaN</td>\n",
       "      <td>0.0</td>\n",
       "      <td>0.0</td>\n",
       "      <td>common</td>\n",
       "      <td>none</td>\n",
       "      <td>medium or heavy, but not hide</td>\n",
       "      <td>This suit of armor is reinforced with adamanti...</td>\n",
       "    </tr>\n",
       "    <tr>\n",
       "      <th>3</th>\n",
       "      <td>alchemist's fire</td>\n",
       "      <td>adventuring gear</td>\n",
       "      <td>consumable</td>\n",
       "      <td>NaN</td>\n",
       "      <td>1.0</td>\n",
       "      <td>0</td>\n",
       "      <td>This sticky, adhesive fluid ignites when expos...</td>\n",
       "      <td>NaN</td>\n",
       "      <td>NaN</td>\n",
       "      <td>dexterity</td>\n",
       "      <td>...</td>\n",
       "      <td>NaN</td>\n",
       "      <td>NaN</td>\n",
       "      <td>20/60</td>\n",
       "      <td>improvised weapons</td>\n",
       "      <td>0.0</td>\n",
       "      <td>1.0</td>\n",
       "      <td>common</td>\n",
       "      <td>none</td>\n",
       "      <td>consumable</td>\n",
       "      <td>This sticky, adhesive fluid ignites when expos...</td>\n",
       "    </tr>\n",
       "    <tr>\n",
       "      <th>4</th>\n",
       "      <td>alchemist's supplies</td>\n",
       "      <td>adventuring gear</td>\n",
       "      <td>artisan's tools</td>\n",
       "      <td>standard</td>\n",
       "      <td>8.0</td>\n",
       "      <td>0</td>\n",
       "      <td>These Special tools include the items needed t...</td>\n",
       "      <td>NaN</td>\n",
       "      <td>NaN</td>\n",
       "      <td>NaN</td>\n",
       "      <td>...</td>\n",
       "      <td>NaN</td>\n",
       "      <td>NaN</td>\n",
       "      <td>NaN</td>\n",
       "      <td>NaN</td>\n",
       "      <td>0.0</td>\n",
       "      <td>8.0</td>\n",
       "      <td>standard</td>\n",
       "      <td>none</td>\n",
       "      <td>artisan's tools</td>\n",
       "      <td>These Special tools include the items needed t...</td>\n",
       "    </tr>\n",
       "  </tbody>\n",
       "</table>\n",
       "<p>5 rows × 23 columns</p>\n",
       "</div>"
      ],
      "text/plain": [
       "                   item              type                          notes  \\\n",
       "0                abacus  adventuring gear                            NaN   \n",
       "1                  acid  adventuring gear                     consumable   \n",
       "2      adamantine armor             armor  medium or heavy, but not hide   \n",
       "3      alchemist's fire  adventuring gear                     consumable   \n",
       "4  alchemist's supplies  adventuring gear                artisan's tools   \n",
       "\n",
       "  item_rarity  weight  attunement  \\\n",
       "0         NaN     2.0           0   \n",
       "1         NaN     1.0           0   \n",
       "2         NaN     NaN           0   \n",
       "3         NaN     1.0           0   \n",
       "4    standard     8.0           0   \n",
       "\n",
       "                                             details modifiers  ac       save  \\\n",
       "0                                                NaN       NaN NaN        NaN   \n",
       "1  As an action, you can splash the contents of t...       NaN NaN        NaN   \n",
       "2  This suit of armor is reinforced with adamanti...       NaN NaN        NaN   \n",
       "3  This sticky, adhesive fluid ignites when expos...       NaN NaN  dexterity   \n",
       "4  These Special tools include the items needed t...       NaN NaN        NaN   \n",
       "\n",
       "   ... duration secondary damage  range          properties ac_clean  \\\n",
       "0  ...      NaN              NaN    NaN                 NaN      0.0   \n",
       "1  ...      NaN              NaN  20/60  improvised weapons      0.0   \n",
       "2  ...      NaN              NaN    NaN                 NaN      0.0   \n",
       "3  ...      NaN              NaN  20/60  improvised weapons      0.0   \n",
       "4  ...      NaN              NaN    NaN                 NaN      0.0   \n",
       "\n",
       "  weight_clean rarity_clean  stealth_clean                    notes_clean  \\\n",
       "0          2.0       common           none                           none   \n",
       "1          1.0       common           none                     consumable   \n",
       "2          0.0       common           none  medium or heavy, but not hide   \n",
       "3          1.0       common           none                     consumable   \n",
       "4          8.0     standard           none                artisan's tools   \n",
       "\n",
       "                                       details_clean  \n",
       "0                                               none  \n",
       "1  As an action, you can splash the contents of t...  \n",
       "2  This suit of armor is reinforced with adamanti...  \n",
       "3  This sticky, adhesive fluid ignites when expos...  \n",
       "4  These Special tools include the items needed t...  \n",
       "\n",
       "[5 rows x 23 columns]"
      ]
     },
     "execution_count": 113,
     "metadata": {},
     "output_type": "execute_result"
    }
   ],
   "source": [
    "#Cleaning Check\n",
    "items.head()"
   ]
  },
  {
   "cell_type": "markdown",
   "metadata": {
    "azdata_cell_guid": "1233f543-e9a0-4f78-96f5-d7536554102e"
   },
   "source": [
    "## Irregular Data\n",
    "\n",
    "Detect outliers in your dataset and handle them as needed. Use code comments to make notes about your thought process.\n",
    "\n",
    "- [Ways to Detect and Remove the Outliers](https://towardsdatascience.com/ways-to-detect-and-remove-the-outliers-404d16608dba)\n"
   ]
  },
  {
   "cell_type": "code",
   "execution_count": 81,
   "metadata": {
    "azdata_cell_guid": "efed50ae-16f0-471d-98e2-632553a74c12"
   },
   "outputs": [
    {
     "data": {
      "text/plain": [
       "<AxesSubplot:>"
      ]
     },
     "execution_count": 81,
     "metadata": {},
     "output_type": "execute_result"
    },
    {
     "data": {
      "image/png": "[encoded data removed]",
      "text/plain": [
       "<Figure size 432x288 with 1 Axes>"
      ]
     },
     "metadata": {
      "needs_background": "light"
     },
     "output_type": "display_data"
    }
   ],
   "source": [
    "items.plot.box() "
   ]
  },
  {
   "cell_type": "code",
   "execution_count": 82,
   "metadata": {},
   "outputs": [
    {
     "data": {
      "text/plain": [
       "<AxesSubplot:xlabel='ac_clean', ylabel='weight_clean'>"
      ]
     },
     "execution_count": 82,
     "metadata": {},
     "output_type": "execute_result"
    },
    {
     "data": {
      "image/png": "[encoded data removed]",
      "text/plain": [
       "<Figure size 432x288 with 1 Axes>"
      ]
     },
     "metadata": {
      "needs_background": "light"
     },
     "output_type": "display_data"
    }
   ],
   "source": [
    "items.plot.scatter(x=\"ac_clean\",  y=\"weight_clean\")"
   ]
  },
  {
   "cell_type": "markdown",
   "metadata": {
    "azdata_cell_guid": "6f5b8ee0-bab3-44bc-958a-67d1e4c0407f"
   },
   "source": [
    "## Unnecessary Data\n",
    "\n",
    "Look for the different types of unnecessary data in your dataset and address it as needed. Make sure to use code comments to illustrate your thought process."
   ]
  },
  {
   "cell_type": "code",
   "execution_count": null,
   "metadata": {
    "azdata_cell_guid": "e788a239-2fbf-41de-9bd3-19e52e3b187c"
   },
   "outputs": [],
   "source": []
  },
  {
   "cell_type": "markdown",
   "metadata": {
    "azdata_cell_guid": "53e0cf94-c68a-4fa0-9849-9505a66bcce6"
   },
   "source": [
    "## Inconsistent Data\n",
    "\n",
    "Check for inconsistent data and address any that arises. As always, use code comments to illustrate your thought process."
   ]
  },
  {
   "cell_type": "code",
   "execution_count": null,
   "metadata": {
    "azdata_cell_guid": "e9de6624-812a-43f8-8e20-93b4a49b091f"
   },
   "outputs": [],
   "source": []
  },
  {
   "cell_type": "markdown",
   "metadata": {
    "azdata_cell_guid": "dedc0bfe-17d0-40b2-914f-2ddb54f9ce0d"
   },
   "source": [
    "## Summarize Your Results\n",
    "\n",
    "Make note of your answers to the following questions.\n",
    "\n",
    "1. Did you find all four types of dirty data in your dataset?\n",
    "2. Did the process of cleaning your data give you new insights into your dataset?\n",
    "3. Is there anything you would like to make note of when it comes to manipulating the data and making visualizations?"
   ]
  }
 ],
 "metadata": {
  "kernelspec": {
   "display_name": "Python 3",
   "language": "python",
   "name": "python3"
  },
  "language_info": {
   "codemirror_mode": {
    "name": "ipython",
    "version": 3
   },
   "file_extension": ".py",
   "mimetype": "text/x-python",
   "name": "python",
   "nbconvert_exporter": "python",
   "pygments_lexer": "ipython3",
   "version": "3.8.8"
  }
 },
 "nbformat": 4,
 "nbformat_minor": 2
}
